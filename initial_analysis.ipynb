{
 "cells": [
  {
   "cell_type": "markdown",
   "metadata": {},
   "source": [
    "# H1 Intro\n",
    "This exploration aims to:\n",
    "- Compile a list of all planning applications for the past few years\n",
    "- Compare top level analytics on these - approvals and rejections by county, year etc.\n",
    "- Analyse application details to understand rejection reasons, timelines etc."
   ]
  },
  {
   "cell_type": "markdown",
   "metadata": {},
   "source": [
    "# H3 Imports & Variables\n",
    "First, some necessary imports and globally applicable values"
   ]
  },
  {
   "cell_type": "code",
   "execution_count": 3,
   "metadata": {},
   "outputs": [],
   "source": [
    "import pandas as pd\n",
    "import plotly.graph_objects as go\n",
    "\n",
    "import helper_functions as helper\n",
    "\n",
    "filename = \"IrishPlanningApplications.csv\""
   ]
  },
  {
   "cell_type": "markdown",
   "metadata": {},
   "source": [
    "# H1 Baseline Data Gathering\n",
    "Here we'll generate a CSV file of every planning application available through the [National Planning Applications](https://data.gov.ie/dataset/national-planning-applications) database. This will be our primary starting data source."
   ]
  },
  {
   "cell_type": "code",
   "execution_count": 6,
   "metadata": {},
   "outputs": [
    {
     "name": "stdout",
     "output_type": "stream",
     "text": [
      "About to begin fetching requests (this could take a few minutes)\n",
      "Conversion failed for ExpiryDate with value 33556723200000. Keeping original value.\n",
      "Conversion failed for ExpiryDate with value 33494515200000. Keeping original value.\n",
      "Conversion failed for ExpiryDate with value 32474044800000. Keeping original value.\n",
      "Conversion failed for ExpiryDate with value 32474044800000. Keeping original value.\n",
      "Conversion failed for DecisionDueDate with value 253370764800000. Keeping original value.\n",
      "Conversion failed for DecisionDueDate with value 253370764800000. Keeping original value.\n",
      "Conversion failed for DecisionDueDate with value 253370764800000. Keeping original value.\n",
      "Conversion failed for DecisionDueDate with value 253370764800000. Keeping original value.\n",
      "Conversion failed for GrantDate with value 96134860800000. Keeping original value.\n",
      "Conversion failed for ExpiryDate with value 96292540800000. Keeping original value.\n",
      "Conversion failed for ReceivedDate with value 38365315200000. Keeping original value.\n",
      "Conversion failed for AppealSubmittedDate with value 10788249600000. Keeping original value.\n",
      "Saved records to  IrishPlanningApplications.csv\n"
     ]
    }
   ],
   "source": [
    "# Get all applications and return as a dataframe\n",
    "df = helper.application_retriever()\n",
    "\n",
    "# Save the DataFrame to a CSV file\n",
    "df.to_csv(filename, index=False)\n",
    "print(\"Saved records to \", filename)\n"
   ]
  },
  {
   "cell_type": "code",
   "execution_count": 5,
   "metadata": {},
   "outputs": [
    {
     "name": "stderr",
     "output_type": "stream",
     "text": [
      "/var/folders/1y/y7dky6b53zs0wszb6r1_6gmc0000gn/T/ipykernel_44617/1428047877.py:2: DtypeWarning: Columns (2,5,6,10,11,14,16,17,18,20,24,26,32,33) have mixed types. Specify dtype option on import or set low_memory=False.\n",
      "  df = pd.read_csv(filename)\n"
     ]
    },
    {
     "data": {
      "text/html": [
       "<div>\n",
       "<style scoped>\n",
       "    .dataframe tbody tr th:only-of-type {\n",
       "        vertical-align: middle;\n",
       "    }\n",
       "\n",
       "    .dataframe tbody tr th {\n",
       "        vertical-align: top;\n",
       "    }\n",
       "\n",
       "    .dataframe thead th {\n",
       "        text-align: right;\n",
       "    }\n",
       "</style>\n",
       "<table border=\"1\" class=\"dataframe\">\n",
       "  <thead>\n",
       "    <tr style=\"text-align: right;\">\n",
       "      <th></th>\n",
       "      <th>OBJECTID</th>\n",
       "      <th>PlanningAuthority</th>\n",
       "      <th>ApplicationNumber</th>\n",
       "      <th>DevelopmentDescription</th>\n",
       "      <th>DevelopmentAddress</th>\n",
       "      <th>DevelopmentPostcode</th>\n",
       "      <th>ITMEasting</th>\n",
       "      <th>ITMNorthing</th>\n",
       "      <th>ApplicationStatus</th>\n",
       "      <th>ApplicationType</th>\n",
       "      <th>...</th>\n",
       "      <th>AppealSubmittedDate</th>\n",
       "      <th>FIRequestDate</th>\n",
       "      <th>FIRecDate</th>\n",
       "      <th>LinkAppDetails</th>\n",
       "      <th>OneOffKPI</th>\n",
       "      <th>ETL_DATE</th>\n",
       "      <th>SiteId</th>\n",
       "      <th>ORIG_FID</th>\n",
       "      <th>Latitude</th>\n",
       "      <th>Longitude</th>\n",
       "    </tr>\n",
       "  </thead>\n",
       "  <tbody>\n",
       "    <tr>\n",
       "      <th>0</th>\n",
       "      <td>1.0</td>\n",
       "      <td>Carlow County Council</td>\n",
       "      <td>151</td>\n",
       "      <td>erection of a fully serviced two storey dormer...</td>\n",
       "      <td>Clonogan  , Clonegal  , Co. Carlow</td>\n",
       "      <td>NaN</td>\n",
       "      <td>NaN</td>\n",
       "      <td>NaN</td>\n",
       "      <td>APPLICATION FINALISED</td>\n",
       "      <td>PERMISSION</td>\n",
       "      <td>...</td>\n",
       "      <td>NaN</td>\n",
       "      <td>2015-03-04 00:00:00</td>\n",
       "      <td>2015-03-11 00:00:00</td>\n",
       "      <td>http://www.eplanning.ie/CarlowCC/AppFileRefDet...</td>\n",
       "      <td>Yes</td>\n",
       "      <td>2023-04-27 15:13:22</td>\n",
       "      <td>NaN</td>\n",
       "      <td>1.0</td>\n",
       "      <td>6.928169e+06</td>\n",
       "      <td>-739925.245194</td>\n",
       "    </tr>\n",
       "    <tr>\n",
       "      <th>1</th>\n",
       "      <td>2.0</td>\n",
       "      <td>Carlow County Council</td>\n",
       "      <td>1510</td>\n",
       "      <td>development at this site, Phase 2 Building, No...</td>\n",
       "      <td>Phase 2 Building   , Northeast Elevation  , Th...</td>\n",
       "      <td>NaN</td>\n",
       "      <td>NaN</td>\n",
       "      <td>NaN</td>\n",
       "      <td>APPLICATION FINALISED</td>\n",
       "      <td>PERMISSION</td>\n",
       "      <td>...</td>\n",
       "      <td>NaN</td>\n",
       "      <td>NaN</td>\n",
       "      <td>NaN</td>\n",
       "      <td>http://www.eplanning.ie/CarlowCC/AppFileRefDet...</td>\n",
       "      <td>No</td>\n",
       "      <td>2023-04-27 15:13:22</td>\n",
       "      <td>NaN</td>\n",
       "      <td>2.0</td>\n",
       "      <td>6.952309e+06</td>\n",
       "      <td>-770761.351635</td>\n",
       "    </tr>\n",
       "    <tr>\n",
       "      <th>2</th>\n",
       "      <td>3.0</td>\n",
       "      <td>Carlow County Council</td>\n",
       "      <td>15100</td>\n",
       "      <td>construct a domestic garage for domestic purpo...</td>\n",
       "      <td>67 Park Gate , Shillelagh Road , Tullow</td>\n",
       "      <td>NaN</td>\n",
       "      <td>NaN</td>\n",
       "      <td>NaN</td>\n",
       "      <td>APPLICATION FINALISED</td>\n",
       "      <td>PERMISSION</td>\n",
       "      <td>...</td>\n",
       "      <td>NaN</td>\n",
       "      <td>NaN</td>\n",
       "      <td>NaN</td>\n",
       "      <td>http://www.eplanning.ie/CarlowCC/AppFileRefDet...</td>\n",
       "      <td>Yes</td>\n",
       "      <td>2023-04-27 15:13:22</td>\n",
       "      <td>NaN</td>\n",
       "      <td>3.0</td>\n",
       "      <td>6.947390e+06</td>\n",
       "      <td>-748265.781628</td>\n",
       "    </tr>\n",
       "    <tr>\n",
       "      <th>3</th>\n",
       "      <td>4.0</td>\n",
       "      <td>Carlow County Council</td>\n",
       "      <td>15101</td>\n",
       "      <td>alteration and extension to existing dwelling ...</td>\n",
       "      <td>Knockevagh , Rathvilly , Co. Carlow</td>\n",
       "      <td>NaN</td>\n",
       "      <td>NaN</td>\n",
       "      <td>NaN</td>\n",
       "      <td>APPLICATION FINALISED</td>\n",
       "      <td>PERMISSION</td>\n",
       "      <td>...</td>\n",
       "      <td>NaN</td>\n",
       "      <td>NaN</td>\n",
       "      <td>NaN</td>\n",
       "      <td>http://www.eplanning.ie/CarlowCC/AppFileRefDet...</td>\n",
       "      <td>Yes</td>\n",
       "      <td>2023-04-27 15:13:22</td>\n",
       "      <td>NaN</td>\n",
       "      <td>4.0</td>\n",
       "      <td>6.961182e+06</td>\n",
       "      <td>-743359.200963</td>\n",
       "    </tr>\n",
       "    <tr>\n",
       "      <th>4</th>\n",
       "      <td>5.0</td>\n",
       "      <td>Carlow County Council</td>\n",
       "      <td>15102</td>\n",
       "      <td>construction of a dormer bungalow on an infill...</td>\n",
       "      <td>Barrowlands , Leighlin Road , Graiguecullen</td>\n",
       "      <td>NaN</td>\n",
       "      <td>NaN</td>\n",
       "      <td>NaN</td>\n",
       "      <td>APPLICATION FINALISED</td>\n",
       "      <td>PERMISSION</td>\n",
       "      <td>...</td>\n",
       "      <td>NaN</td>\n",
       "      <td>2015-06-05 00:00:00</td>\n",
       "      <td>2015-09-01 00:00:00</td>\n",
       "      <td>http://www.eplanning.ie/CarlowCC/AppFileRefDet...</td>\n",
       "      <td>Yes</td>\n",
       "      <td>2023-04-27 15:13:22</td>\n",
       "      <td>NaN</td>\n",
       "      <td>5.0</td>\n",
       "      <td>6.952150e+06</td>\n",
       "      <td>-772320.581413</td>\n",
       "    </tr>\n",
       "  </tbody>\n",
       "</table>\n",
       "<p>5 rows × 39 columns</p>\n",
       "</div>"
      ],
      "text/plain": [
       "   OBJECTID      PlanningAuthority ApplicationNumber  \\\n",
       "0       1.0  Carlow County Council               151   \n",
       "1       2.0  Carlow County Council              1510   \n",
       "2       3.0  Carlow County Council             15100   \n",
       "3       4.0  Carlow County Council             15101   \n",
       "4       5.0  Carlow County Council             15102   \n",
       "\n",
       "                              DevelopmentDescription  \\\n",
       "0  erection of a fully serviced two storey dormer...   \n",
       "1  development at this site, Phase 2 Building, No...   \n",
       "2  construct a domestic garage for domestic purpo...   \n",
       "3  alteration and extension to existing dwelling ...   \n",
       "4  construction of a dormer bungalow on an infill...   \n",
       "\n",
       "                                  DevelopmentAddress DevelopmentPostcode  \\\n",
       "0                 Clonogan  , Clonegal  , Co. Carlow                 NaN   \n",
       "1  Phase 2 Building   , Northeast Elevation  , Th...                 NaN   \n",
       "2            67 Park Gate , Shillelagh Road , Tullow                 NaN   \n",
       "3                Knockevagh , Rathvilly , Co. Carlow                 NaN   \n",
       "4        Barrowlands , Leighlin Road , Graiguecullen                 NaN   \n",
       "\n",
       "  ITMEasting  ITMNorthing      ApplicationStatus ApplicationType  ...  \\\n",
       "0        NaN          NaN  APPLICATION FINALISED      PERMISSION  ...   \n",
       "1        NaN          NaN  APPLICATION FINALISED      PERMISSION  ...   \n",
       "2        NaN          NaN  APPLICATION FINALISED      PERMISSION  ...   \n",
       "3        NaN          NaN  APPLICATION FINALISED      PERMISSION  ...   \n",
       "4        NaN          NaN  APPLICATION FINALISED      PERMISSION  ...   \n",
       "\n",
       "  AppealSubmittedDate        FIRequestDate            FIRecDate  \\\n",
       "0                 NaN  2015-03-04 00:00:00  2015-03-11 00:00:00   \n",
       "1                 NaN                  NaN                  NaN   \n",
       "2                 NaN                  NaN                  NaN   \n",
       "3                 NaN                  NaN                  NaN   \n",
       "4                 NaN  2015-06-05 00:00:00  2015-09-01 00:00:00   \n",
       "\n",
       "                                      LinkAppDetails OneOffKPI  \\\n",
       "0  http://www.eplanning.ie/CarlowCC/AppFileRefDet...       Yes   \n",
       "1  http://www.eplanning.ie/CarlowCC/AppFileRefDet...        No   \n",
       "2  http://www.eplanning.ie/CarlowCC/AppFileRefDet...       Yes   \n",
       "3  http://www.eplanning.ie/CarlowCC/AppFileRefDet...       Yes   \n",
       "4  http://www.eplanning.ie/CarlowCC/AppFileRefDet...       Yes   \n",
       "\n",
       "              ETL_DATE SiteId ORIG_FID      Latitude      Longitude  \n",
       "0  2023-04-27 15:13:22    NaN      1.0  6.928169e+06 -739925.245194  \n",
       "1  2023-04-27 15:13:22    NaN      2.0  6.952309e+06 -770761.351635  \n",
       "2  2023-04-27 15:13:22    NaN      3.0  6.947390e+06 -748265.781628  \n",
       "3  2023-04-27 15:13:22    NaN      4.0  6.961182e+06 -743359.200963  \n",
       "4  2023-04-27 15:13:22    NaN      5.0  6.952150e+06 -772320.581413  \n",
       "\n",
       "[5 rows x 39 columns]"
      ]
     },
     "execution_count": 5,
     "metadata": {},
     "output_type": "execute_result"
    }
   ],
   "source": [
    "# Load the dataset\n",
    "df = pd.read_csv(filename)\n",
    "\n",
    "# Display the first few rows of the DataFrame to verify it's loaded correctly\n",
    "df.head()"
   ]
  },
  {
   "cell_type": "markdown",
   "metadata": {},
   "source": [
    "Simple test - analyze the distribution of planning application decisions (e.g., Granted, Refused) over the years"
   ]
  },
  {
   "cell_type": "code",
   "execution_count": 6,
   "metadata": {},
   "outputs": [
    {
     "data": {
      "application/vnd.plotly.v1+json": {
       "config": {
        "plotlyServerURL": "https://plot.ly"
       },
       "data": [
        {
         "name": "Galway County Council - CONDITIONAL",
         "text": [
          794,
          1195,
          1358,
          1472,
          1447,
          1338,
          1662,
          1533,
          1212,
          307
         ],
         "textposition": "auto",
         "type": "bar",
         "x": [
          "2015-Galway County Council",
          "2016-Galway County Council",
          "2017-Galway County Council",
          "2018-Galway County Council",
          "2019-Galway County Council",
          "2020-Galway County Council",
          "2021-Galway County Council",
          "2022-Galway County Council",
          "2023-Galway County Council",
          "2024-Galway County Council"
         ],
         "y": [
          794,
          1195,
          1358,
          1472,
          1447,
          1338,
          1662,
          1533,
          1212,
          307
         ]
        },
        {
         "name": "Galway County Council - REFUSED",
         "text": [
          38,
          84,
          94,
          157,
          242,
          261,
          362,
          479,
          335,
          50
         ],
         "textposition": "auto",
         "type": "bar",
         "x": [
          "2015-Galway County Council",
          "2016-Galway County Council",
          "2017-Galway County Council",
          "2018-Galway County Council",
          "2019-Galway County Council",
          "2020-Galway County Council",
          "2021-Galway County Council",
          "2022-Galway County Council",
          "2023-Galway County Council",
          "2024-Galway County Council"
         ],
         "y": [
          38,
          84,
          94,
          157,
          242,
          261,
          362,
          479,
          335,
          50
         ]
        },
        {
         "name": "Galway County Council - UNCONDITIONAL",
         "text": [
          127,
          89,
          62,
          53,
          44,
          33,
          58,
          24,
          1
         ],
         "textposition": "auto",
         "type": "bar",
         "x": [
          "2015-Galway County Council",
          "2016-Galway County Council",
          "2017-Galway County Council",
          "2018-Galway County Council",
          "2019-Galway County Council",
          "2020-Galway County Council",
          "2021-Galway County Council",
          "2022-Galway County Council",
          "2023-Galway County Council"
         ],
         "y": [
          127,
          89,
          62,
          53,
          44,
          33,
          58,
          24,
          1
         ]
        },
        {
         "name": "Mayo County Council - CONDITIONAL",
         "text": [
          476,
          822,
          835,
          847,
          854,
          739,
          1116,
          990,
          981,
          158
         ],
         "textposition": "auto",
         "type": "bar",
         "x": [
          "2015-Mayo County Council",
          "2016-Mayo County Council",
          "2017-Mayo County Council",
          "2018-Mayo County Council",
          "2019-Mayo County Council",
          "2020-Mayo County Council",
          "2021-Mayo County Council",
          "2022-Mayo County Council",
          "2023-Mayo County Council",
          "2024-Mayo County Council"
         ],
         "y": [
          476,
          822,
          835,
          847,
          854,
          739,
          1116,
          990,
          981,
          158
         ]
        },
        {
         "name": "Mayo County Council - REFUSED",
         "text": [
          13,
          25,
          36,
          34,
          42,
          53,
          84,
          78,
          57,
          13
         ],
         "textposition": "auto",
         "type": "bar",
         "x": [
          "2015-Mayo County Council",
          "2016-Mayo County Council",
          "2017-Mayo County Council",
          "2018-Mayo County Council",
          "2019-Mayo County Council",
          "2020-Mayo County Council",
          "2021-Mayo County Council",
          "2022-Mayo County Council",
          "2023-Mayo County Council",
          "2024-Mayo County Council"
         ],
         "y": [
          13,
          25,
          36,
          34,
          42,
          53,
          84,
          78,
          57,
          13
         ]
        },
        {
         "name": "Mayo County Council - UNCONDITIONAL",
         "text": [],
         "textposition": "auto",
         "type": "bar",
         "x": [],
         "y": []
        }
       ],
       "layout": {
        "barmode": "stack",
        "legend": {
         "title": {
          "text": "Decision by Authority"
         }
        },
        "template": {
         "data": {
          "bar": [
           {
            "error_x": {
             "color": "#2a3f5f"
            },
            "error_y": {
             "color": "#2a3f5f"
            },
            "marker": {
             "line": {
              "color": "#E5ECF6",
              "width": 0.5
             },
             "pattern": {
              "fillmode": "overlay",
              "size": 10,
              "solidity": 0.2
             }
            },
            "type": "bar"
           }
          ],
          "barpolar": [
           {
            "marker": {
             "line": {
              "color": "#E5ECF6",
              "width": 0.5
             },
             "pattern": {
              "fillmode": "overlay",
              "size": 10,
              "solidity": 0.2
             }
            },
            "type": "barpolar"
           }
          ],
          "carpet": [
           {
            "aaxis": {
             "endlinecolor": "#2a3f5f",
             "gridcolor": "white",
             "linecolor": "white",
             "minorgridcolor": "white",
             "startlinecolor": "#2a3f5f"
            },
            "baxis": {
             "endlinecolor": "#2a3f5f",
             "gridcolor": "white",
             "linecolor": "white",
             "minorgridcolor": "white",
             "startlinecolor": "#2a3f5f"
            },
            "type": "carpet"
           }
          ],
          "choropleth": [
           {
            "colorbar": {
             "outlinewidth": 0,
             "ticks": ""
            },
            "type": "choropleth"
           }
          ],
          "contour": [
           {
            "colorbar": {
             "outlinewidth": 0,
             "ticks": ""
            },
            "colorscale": [
             [
              0,
              "#0d0887"
             ],
             [
              0.1111111111111111,
              "#46039f"
             ],
             [
              0.2222222222222222,
              "#7201a8"
             ],
             [
              0.3333333333333333,
              "#9c179e"
             ],
             [
              0.4444444444444444,
              "#bd3786"
             ],
             [
              0.5555555555555556,
              "#d8576b"
             ],
             [
              0.6666666666666666,
              "#ed7953"
             ],
             [
              0.7777777777777778,
              "#fb9f3a"
             ],
             [
              0.8888888888888888,
              "#fdca26"
             ],
             [
              1,
              "#f0f921"
             ]
            ],
            "type": "contour"
           }
          ],
          "contourcarpet": [
           {
            "colorbar": {
             "outlinewidth": 0,
             "ticks": ""
            },
            "type": "contourcarpet"
           }
          ],
          "heatmap": [
           {
            "colorbar": {
             "outlinewidth": 0,
             "ticks": ""
            },
            "colorscale": [
             [
              0,
              "#0d0887"
             ],
             [
              0.1111111111111111,
              "#46039f"
             ],
             [
              0.2222222222222222,
              "#7201a8"
             ],
             [
              0.3333333333333333,
              "#9c179e"
             ],
             [
              0.4444444444444444,
              "#bd3786"
             ],
             [
              0.5555555555555556,
              "#d8576b"
             ],
             [
              0.6666666666666666,
              "#ed7953"
             ],
             [
              0.7777777777777778,
              "#fb9f3a"
             ],
             [
              0.8888888888888888,
              "#fdca26"
             ],
             [
              1,
              "#f0f921"
             ]
            ],
            "type": "heatmap"
           }
          ],
          "heatmapgl": [
           {
            "colorbar": {
             "outlinewidth": 0,
             "ticks": ""
            },
            "colorscale": [
             [
              0,
              "#0d0887"
             ],
             [
              0.1111111111111111,
              "#46039f"
             ],
             [
              0.2222222222222222,
              "#7201a8"
             ],
             [
              0.3333333333333333,
              "#9c179e"
             ],
             [
              0.4444444444444444,
              "#bd3786"
             ],
             [
              0.5555555555555556,
              "#d8576b"
             ],
             [
              0.6666666666666666,
              "#ed7953"
             ],
             [
              0.7777777777777778,
              "#fb9f3a"
             ],
             [
              0.8888888888888888,
              "#fdca26"
             ],
             [
              1,
              "#f0f921"
             ]
            ],
            "type": "heatmapgl"
           }
          ],
          "histogram": [
           {
            "marker": {
             "pattern": {
              "fillmode": "overlay",
              "size": 10,
              "solidity": 0.2
             }
            },
            "type": "histogram"
           }
          ],
          "histogram2d": [
           {
            "colorbar": {
             "outlinewidth": 0,
             "ticks": ""
            },
            "colorscale": [
             [
              0,
              "#0d0887"
             ],
             [
              0.1111111111111111,
              "#46039f"
             ],
             [
              0.2222222222222222,
              "#7201a8"
             ],
             [
              0.3333333333333333,
              "#9c179e"
             ],
             [
              0.4444444444444444,
              "#bd3786"
             ],
             [
              0.5555555555555556,
              "#d8576b"
             ],
             [
              0.6666666666666666,
              "#ed7953"
             ],
             [
              0.7777777777777778,
              "#fb9f3a"
             ],
             [
              0.8888888888888888,
              "#fdca26"
             ],
             [
              1,
              "#f0f921"
             ]
            ],
            "type": "histogram2d"
           }
          ],
          "histogram2dcontour": [
           {
            "colorbar": {
             "outlinewidth": 0,
             "ticks": ""
            },
            "colorscale": [
             [
              0,
              "#0d0887"
             ],
             [
              0.1111111111111111,
              "#46039f"
             ],
             [
              0.2222222222222222,
              "#7201a8"
             ],
             [
              0.3333333333333333,
              "#9c179e"
             ],
             [
              0.4444444444444444,
              "#bd3786"
             ],
             [
              0.5555555555555556,
              "#d8576b"
             ],
             [
              0.6666666666666666,
              "#ed7953"
             ],
             [
              0.7777777777777778,
              "#fb9f3a"
             ],
             [
              0.8888888888888888,
              "#fdca26"
             ],
             [
              1,
              "#f0f921"
             ]
            ],
            "type": "histogram2dcontour"
           }
          ],
          "mesh3d": [
           {
            "colorbar": {
             "outlinewidth": 0,
             "ticks": ""
            },
            "type": "mesh3d"
           }
          ],
          "parcoords": [
           {
            "line": {
             "colorbar": {
              "outlinewidth": 0,
              "ticks": ""
             }
            },
            "type": "parcoords"
           }
          ],
          "pie": [
           {
            "automargin": true,
            "type": "pie"
           }
          ],
          "scatter": [
           {
            "fillpattern": {
             "fillmode": "overlay",
             "size": 10,
             "solidity": 0.2
            },
            "type": "scatter"
           }
          ],
          "scatter3d": [
           {
            "line": {
             "colorbar": {
              "outlinewidth": 0,
              "ticks": ""
             }
            },
            "marker": {
             "colorbar": {
              "outlinewidth": 0,
              "ticks": ""
             }
            },
            "type": "scatter3d"
           }
          ],
          "scattercarpet": [
           {
            "marker": {
             "colorbar": {
              "outlinewidth": 0,
              "ticks": ""
             }
            },
            "type": "scattercarpet"
           }
          ],
          "scattergeo": [
           {
            "marker": {
             "colorbar": {
              "outlinewidth": 0,
              "ticks": ""
             }
            },
            "type": "scattergeo"
           }
          ],
          "scattergl": [
           {
            "marker": {
             "colorbar": {
              "outlinewidth": 0,
              "ticks": ""
             }
            },
            "type": "scattergl"
           }
          ],
          "scattermapbox": [
           {
            "marker": {
             "colorbar": {
              "outlinewidth": 0,
              "ticks": ""
             }
            },
            "type": "scattermapbox"
           }
          ],
          "scatterpolar": [
           {
            "marker": {
             "colorbar": {
              "outlinewidth": 0,
              "ticks": ""
             }
            },
            "type": "scatterpolar"
           }
          ],
          "scatterpolargl": [
           {
            "marker": {
             "colorbar": {
              "outlinewidth": 0,
              "ticks": ""
             }
            },
            "type": "scatterpolargl"
           }
          ],
          "scatterternary": [
           {
            "marker": {
             "colorbar": {
              "outlinewidth": 0,
              "ticks": ""
             }
            },
            "type": "scatterternary"
           }
          ],
          "surface": [
           {
            "colorbar": {
             "outlinewidth": 0,
             "ticks": ""
            },
            "colorscale": [
             [
              0,
              "#0d0887"
             ],
             [
              0.1111111111111111,
              "#46039f"
             ],
             [
              0.2222222222222222,
              "#7201a8"
             ],
             [
              0.3333333333333333,
              "#9c179e"
             ],
             [
              0.4444444444444444,
              "#bd3786"
             ],
             [
              0.5555555555555556,
              "#d8576b"
             ],
             [
              0.6666666666666666,
              "#ed7953"
             ],
             [
              0.7777777777777778,
              "#fb9f3a"
             ],
             [
              0.8888888888888888,
              "#fdca26"
             ],
             [
              1,
              "#f0f921"
             ]
            ],
            "type": "surface"
           }
          ],
          "table": [
           {
            "cells": {
             "fill": {
              "color": "#EBF0F8"
             },
             "line": {
              "color": "white"
             }
            },
            "header": {
             "fill": {
              "color": "#C8D4E3"
             },
             "line": {
              "color": "white"
             }
            },
            "type": "table"
           }
          ]
         },
         "layout": {
          "annotationdefaults": {
           "arrowcolor": "#2a3f5f",
           "arrowhead": 0,
           "arrowwidth": 1
          },
          "autotypenumbers": "strict",
          "coloraxis": {
           "colorbar": {
            "outlinewidth": 0,
            "ticks": ""
           }
          },
          "colorscale": {
           "diverging": [
            [
             0,
             "#8e0152"
            ],
            [
             0.1,
             "#c51b7d"
            ],
            [
             0.2,
             "#de77ae"
            ],
            [
             0.3,
             "#f1b6da"
            ],
            [
             0.4,
             "#fde0ef"
            ],
            [
             0.5,
             "#f7f7f7"
            ],
            [
             0.6,
             "#e6f5d0"
            ],
            [
             0.7,
             "#b8e186"
            ],
            [
             0.8,
             "#7fbc41"
            ],
            [
             0.9,
             "#4d9221"
            ],
            [
             1,
             "#276419"
            ]
           ],
           "sequential": [
            [
             0,
             "#0d0887"
            ],
            [
             0.1111111111111111,
             "#46039f"
            ],
            [
             0.2222222222222222,
             "#7201a8"
            ],
            [
             0.3333333333333333,
             "#9c179e"
            ],
            [
             0.4444444444444444,
             "#bd3786"
            ],
            [
             0.5555555555555556,
             "#d8576b"
            ],
            [
             0.6666666666666666,
             "#ed7953"
            ],
            [
             0.7777777777777778,
             "#fb9f3a"
            ],
            [
             0.8888888888888888,
             "#fdca26"
            ],
            [
             1,
             "#f0f921"
            ]
           ],
           "sequentialminus": [
            [
             0,
             "#0d0887"
            ],
            [
             0.1111111111111111,
             "#46039f"
            ],
            [
             0.2222222222222222,
             "#7201a8"
            ],
            [
             0.3333333333333333,
             "#9c179e"
            ],
            [
             0.4444444444444444,
             "#bd3786"
            ],
            [
             0.5555555555555556,
             "#d8576b"
            ],
            [
             0.6666666666666666,
             "#ed7953"
            ],
            [
             0.7777777777777778,
             "#fb9f3a"
            ],
            [
             0.8888888888888888,
             "#fdca26"
            ],
            [
             1,
             "#f0f921"
            ]
           ]
          },
          "colorway": [
           "#636efa",
           "#EF553B",
           "#00cc96",
           "#ab63fa",
           "#FFA15A",
           "#19d3f3",
           "#FF6692",
           "#B6E880",
           "#FF97FF",
           "#FECB52"
          ],
          "font": {
           "color": "#2a3f5f"
          },
          "geo": {
           "bgcolor": "white",
           "lakecolor": "white",
           "landcolor": "#E5ECF6",
           "showlakes": true,
           "showland": true,
           "subunitcolor": "white"
          },
          "hoverlabel": {
           "align": "left"
          },
          "hovermode": "closest",
          "mapbox": {
           "style": "light"
          },
          "paper_bgcolor": "white",
          "plot_bgcolor": "#E5ECF6",
          "polar": {
           "angularaxis": {
            "gridcolor": "white",
            "linecolor": "white",
            "ticks": ""
           },
           "bgcolor": "#E5ECF6",
           "radialaxis": {
            "gridcolor": "white",
            "linecolor": "white",
            "ticks": ""
           }
          },
          "scene": {
           "xaxis": {
            "backgroundcolor": "#E5ECF6",
            "gridcolor": "white",
            "gridwidth": 2,
            "linecolor": "white",
            "showbackground": true,
            "ticks": "",
            "zerolinecolor": "white"
           },
           "yaxis": {
            "backgroundcolor": "#E5ECF6",
            "gridcolor": "white",
            "gridwidth": 2,
            "linecolor": "white",
            "showbackground": true,
            "ticks": "",
            "zerolinecolor": "white"
           },
           "zaxis": {
            "backgroundcolor": "#E5ECF6",
            "gridcolor": "white",
            "gridwidth": 2,
            "linecolor": "white",
            "showbackground": true,
            "ticks": "",
            "zerolinecolor": "white"
           }
          },
          "shapedefaults": {
           "line": {
            "color": "#2a3f5f"
           }
          },
          "ternary": {
           "aaxis": {
            "gridcolor": "white",
            "linecolor": "white",
            "ticks": ""
           },
           "baxis": {
            "gridcolor": "white",
            "linecolor": "white",
            "ticks": ""
           },
           "bgcolor": "#E5ECF6",
           "caxis": {
            "gridcolor": "white",
            "linecolor": "white",
            "ticks": ""
           }
          },
          "title": {
           "x": 0.05
          },
          "xaxis": {
           "automargin": true,
           "gridcolor": "white",
           "linecolor": "white",
           "ticks": "",
           "title": {
            "standoff": 15
           },
           "zerolinecolor": "white",
           "zerolinewidth": 2
          },
          "yaxis": {
           "automargin": true,
           "gridcolor": "white",
           "linecolor": "white",
           "ticks": "",
           "title": {
            "standoff": 15
           },
           "zerolinecolor": "white",
           "zerolinewidth": 2
          }
         }
        },
        "title": {
         "text": "Planning Application Decisions by Year for Galway and Mayo County Councils"
        },
        "xaxis": {
         "title": {
          "text": "Year - Planning Authority"
         }
        },
        "yaxis": {
         "title": {
          "text": "Number of Decisions"
         }
        }
       }
      }
     },
     "metadata": {},
     "output_type": "display_data"
    }
   ],
   "source": [
    "# Assuming df is existing DataFrame\n",
    "\n",
    "# Filter the DataFrame for rows where PlanningAuthority is 'Galway County Council'\n",
    "filtered_df = df[df['PlanningAuthority'].isin(['Galway County Council', 'Mayo County Council'])].copy()\n",
    "# Drop potential missing values\n",
    "filtered_df.dropna(subset=['DecisionDate', 'PlanningAuthority'], inplace=True)\n",
    "# Convert decision dates to datetime format in the filtered DataFrame\n",
    "filtered_df['DecisionDate'] = pd.to_datetime(filtered_df['DecisionDate'])\n",
    "\n",
    "# Extract the year from the DecisionDate\n",
    "filtered_df['DecisionYear'] = filtered_df['DecisionDate'].dt.year\n",
    "\n",
    "# Group by 'DecisionYear', 'PlanningAuthority', and 'Decision' and count\n",
    "decision_counts = filtered_df.groupby(['DecisionYear', 'PlanningAuthority', 'Decision']).size().reset_index(name='Counts')\n",
    "\n",
    "# Prepare a figure\n",
    "fig = go.Figure()\n",
    "\n",
    "# Define unique categories\n",
    "years = decision_counts['DecisionYear'].unique()\n",
    "authorities = decision_counts['PlanningAuthority'].unique()\n",
    "decisions = decision_counts['Decision'].unique()\n",
    "\n",
    "# Create bars\n",
    "for authority in authorities:\n",
    "    for decision in decisions:\n",
    "        df_filtered = decision_counts[(decision_counts['PlanningAuthority'] == authority) & (decision_counts['Decision'] == decision)]\n",
    "        \n",
    "        fig.add_trace(go.Bar(\n",
    "            x=[f\"{year}-{authority}\" for year in df_filtered['DecisionYear']],\n",
    "            y=df_filtered['Counts'],\n",
    "            name=f\"{authority} - {decision}\",\n",
    "            text=df_filtered['Counts'],\n",
    "            textposition='auto',\n",
    "        ))\n",
    "\n",
    "# Customize appearance\n",
    "fig.update_layout(\n",
    "    barmode='stack',\n",
    "    title='Planning Application Decisions by Year for Galway and Mayo County Councils',\n",
    "    xaxis_title='Year - Planning Authority',\n",
    "    yaxis_title='Number of Decisions',\n",
    "    legend_title='Decision by Authority',\n",
    ")\n",
    "\n",
    "# Show the plot\n",
    "fig.show()\n"
   ]
  },
  {
   "cell_type": "markdown",
   "metadata": {},
   "source": [
    "Now, simplify our analysis into a simple table focusing on Galway County Council only first. this aims to replicate the test analysis in this doc - https://docs.google.com/spreadsheets/d/1dAIAc0Sm136LR-1PBHJ3R2-9v4FHaC-xnABoVQQ4PPc/edit#gid=993444100"
   ]
  },
  {
   "cell_type": "code",
   "execution_count": 30,
   "metadata": {},
   "outputs": [
    {
     "name": "stdout",
     "output_type": "stream",
     "text": [
      "   Received Year  Conditional Rate  Refusal Rate  Unconditional Rate\n",
      "0           2015             68.61          3.94                9.01\n",
      "1           2016             70.82          5.03                5.08\n",
      "2           2017             76.52          5.77                2.86\n",
      "3           2018             79.07          9.57                2.87\n",
      "4           2019             73.05         13.40                1.97\n",
      "5           2020             73.51         13.48                1.98\n",
      "6           2021             71.45         17.39                2.35\n",
      "7           2022             66.95         22.89                0.79\n",
      "8           2023             62.35         14.61                0.06\n",
      "9           2024              8.13          1.06                0.00\n"
     ]
    }
   ],
   "source": [
    "galway_df = df[df['PlanningAuthority'] == 'Galway County Council'].copy()\n",
    "galway_df['Received Year'] = pd.to_datetime(galway_df['ReceivedDate']).dt.year\n",
    "\n",
    "results_df = pd.DataFrame(columns=['Received Year', 'Conditional Rate', 'Refusal Rate', 'Unconditional Rate'])\n",
    "\n",
    "rows_list = []\n",
    "\n",
    "for year in sorted(galway_df['Received Year'].unique()):\n",
    "    year_data = galway_df[galway_df['Received Year'] == year]\n",
    "    total_decisions = len(year_data)\n",
    "    \n",
    "    conditional_rate = ((year_data['Decision'].str.strip() == 'CONDITIONAL').sum() / total_decisions * 100) if total_decisions > 0 else 0\n",
    "    refusal_rate = ((year_data['Decision'].str.strip() == 'REFUSED').sum() / total_decisions * 100) if total_decisions > 0 else 0\n",
    "    unconditional_rate = ((year_data['Decision'].str.strip() == 'UNCONDITIONAL').sum() / total_decisions * 100) if total_decisions > 0 else 0\n",
    "    \n",
    "    rows_list.append({\n",
    "        'Received Year': year,\n",
    "        'Conditional Rate': round(conditional_rate, 2),\n",
    "        'Refusal Rate': round(refusal_rate, 2),\n",
    "        'Unconditional Rate': round(unconditional_rate, 2)\n",
    "    })\n",
    "\n",
    "results_df = pd.DataFrame(rows_list)\n",
    "results_df['Received Year'] = results_df['Received Year'].astype(int)\n",
    "\n",
    "\n",
    "# Ensure 'Received Year' column is of type int\n",
    "results_df['Received Year'] = results_df['Received Year'].astype(int)\n",
    "\n",
    "# Display the DataFrame\n",
    "print(results_df)"
   ]
  },
  {
   "cell_type": "markdown",
   "metadata": {},
   "source": [
    "Same analysis, for Mayo this time"
   ]
  },
  {
   "cell_type": "code",
   "execution_count": 31,
   "metadata": {},
   "outputs": [
    {
     "name": "stdout",
     "output_type": "stream",
     "text": [
      "   Received Year  Conditional Rate  Refusal Rate  Unconditional Rate\n",
      "0           2015             88.48          4.41                 0.0\n",
      "1           2016             88.34          4.88                 0.0\n",
      "2           2017             87.49          5.27                 0.0\n",
      "3           2018             87.59          5.21                 0.0\n",
      "4           2019             83.49          8.15                 0.0\n",
      "5           2020             82.76          7.43                 0.0\n",
      "6           2021             84.35          8.13                 0.0\n",
      "7           2022             79.66          6.10                 0.0\n",
      "8           2023             69.49          4.28                 0.0\n",
      "9           2024              6.76          0.68                 0.0\n"
     ]
    }
   ],
   "source": [
    "mayo_df = df[df['PlanningAuthority'] == 'Mayo County Council'].copy()\n",
    "mayo_df['Received Year'] = pd.to_datetime(mayo_df['ReceivedDate']).dt.year\n",
    "\n",
    "results_df = pd.DataFrame(columns=['Received Year', 'Conditional Rate', 'Refusal Rate', 'Unconditional Rate'])\n",
    "\n",
    "rows_list = []\n",
    "\n",
    "for year in sorted(mayo_df['Received Year'].unique()):\n",
    "    year_data = mayo_df[mayo_df['Received Year'] == year]\n",
    "    total_decisions = len(year_data)\n",
    "    \n",
    "    conditional_rate = ((year_data['Decision'].str.strip() == 'CONDITIONAL').sum() / total_decisions * 100) if total_decisions > 0 else 0\n",
    "    refusal_rate = ((year_data['Decision'].str.strip() == 'REFUSED').sum() / total_decisions * 100) if total_decisions > 0 else 0\n",
    "    unconditional_rate = ((year_data['Decision'].str.strip() == 'UNCONDITIONAL').sum() / total_decisions * 100) if total_decisions > 0 else 0\n",
    "    \n",
    "    rows_list.append({\n",
    "        'Received Year': year,\n",
    "        'Conditional Rate': round(conditional_rate, 2),\n",
    "        'Refusal Rate': round(refusal_rate, 2),\n",
    "        'Unconditional Rate': round(unconditional_rate, 2)\n",
    "    })\n",
    "\n",
    "results_df = pd.DataFrame(rows_list)\n",
    "results_df['Received Year'] = results_df['Received Year'].astype(int)\n",
    "\n",
    "\n",
    "# Ensure 'Received Year' column is of type int\n",
    "results_df['Received Year'] = results_df['Received Year'].astype(int)\n",
    "\n",
    "# Display the DataFrame\n",
    "print(results_df)"
   ]
  }
 ],
 "metadata": {
  "kernelspec": {
   "display_name": "Python 3",
   "language": "python",
   "name": "python3"
  },
  "language_info": {
   "codemirror_mode": {
    "name": "ipython",
    "version": 3
   },
   "file_extension": ".py",
   "mimetype": "text/x-python",
   "name": "python",
   "nbconvert_exporter": "python",
   "pygments_lexer": "ipython3",
   "version": "3.11.7"
  }
 },
 "nbformat": 4,
 "nbformat_minor": 2
}

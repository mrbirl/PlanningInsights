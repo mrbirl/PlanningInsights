{
 "cells": [
  {
   "cell_type": "code",
   "execution_count": 1,
   "metadata": {},
   "outputs": [
    {
     "name": "stdout",
     "output_type": "stream",
     "text": [
      "About to begin fetching requests (this could take a few minutes)\n",
      "Conversion failed for ExpiryDate with value 33556723200000. Keeping original value.\n",
      "Conversion failed for ExpiryDate with value 33494515200000. Keeping original value.\n",
      "Conversion failed for ExpiryDate with value 32474044800000. Keeping original value.\n",
      "Conversion failed for ExpiryDate with value 32474044800000. Keeping original value.\n",
      "Conversion failed for DecisionDueDate with value 253370764800000. Keeping original value.\n",
      "Conversion failed for DecisionDueDate with value 253370764800000. Keeping original value.\n",
      "Conversion failed for DecisionDueDate with value 253370764800000. Keeping original value.\n",
      "Conversion failed for DecisionDueDate with value 253370764800000. Keeping original value.\n",
      "Conversion failed for GrantDate with value 96134860800000. Keeping original value.\n",
      "Conversion failed for ExpiryDate with value 96292540800000. Keeping original value.\n",
      "Conversion failed for ReceivedDate with value 38365315200000. Keeping original value.\n",
      "Conversion failed for AppealSubmittedDate with value 10788249600000. Keeping original value.\n",
      "Conversion failed for GrantDate with value 133495084800000. Keeping original value.\n",
      "Conversion failed for ExpiryDate with value 133652764800000. Keeping original value.\n",
      "Conversion failed for GrantDate with value 196659187200000. Keeping original value.\n",
      "Conversion failed for ExpiryDate with value 196816867200000. Keeping original value.\n",
      "Conversion failed for GrantDate with value 96164755200000. Keeping original value.\n",
      "Conversion failed for ExpiryDate with value 96322435200000. Keeping original value.\n",
      "457489  records saved to  IrishPlanningApplications.csv\n"
     ]
    }
   ],
   "source": [
    "import requests\n",
    "import pandas as pd\n",
    "import time\n",
    "\n",
    "# URL to the FeatureServer\n",
    "url = \"https://services.arcgis.com/NzlPQPKn5QF9v2US/ArcGIS/rest/services/IrishPlanningApplications/FeatureServer/0/query\"\n",
    "\n",
    "# Initialize parameters for pagination\n",
    "offset = 0\n",
    "record_count = 1000  # Number of records to fetch per request\n",
    "all_attributes = []\n",
    "\n",
    "print(\"About to begin fetching requests (this could take a few minutes)\")\n",
    "\n",
    "while True:\n",
    "    # Update query parameters for pagination\n",
    "    params = {\n",
    "        # \"where\": \"PlanningAuthority='Galway County Council'\",\n",
    "        \"where\": \"1=1\",\n",
    "        \"outFields\": \"*\",\n",
    "        \"f\": \"json\",\n",
    "        \"resultOffset\": offset,\n",
    "        \"resultRecordCount\": record_count\n",
    "    }\n",
    "\n",
    "    try:\n",
    "        # Send a GET request to the server\n",
    "        response = requests.get(url, params=params)\n",
    "        response.raise_for_status()  # Raises a HTTPError for bad responses\n",
    "\n",
    "        data = response.json()\n",
    "        features = data.get('features', [])\n",
    "\n",
    "        if not features:\n",
    "            break  # Exit the loop if no more features are returned\n",
    "\n",
    "        for feature in features:\n",
    "            attributes = feature['attributes'] \n",
    "\n",
    "            # Check if there's geometry data and extract latitude and longitude\n",
    "            geometry = feature.get('geometry', None)\n",
    "            if geometry:\n",
    "                # Assuming point data; adjust as necessary for other types like polygons\n",
    "                latitude = geometry.get('y', None)\n",
    "                longitude = geometry.get('x', None)\n",
    "                \n",
    "                # Add latitude and longitude to the attributes with new keys\n",
    "                attributes['Latitude'] = latitude\n",
    "                attributes['Longitude'] = longitude\n",
    "\n",
    "            for key, value in list(attributes.items()):\n",
    "                if \"date\" in key.lower() and value is not None:  # Check for \"date\" and ensure value is not None\n",
    "                    try:\n",
    "                        # Using milliseconds ('ms'). Adjust seconds ('s') if this doesn't work)\n",
    "                        attributes[key] = pd.to_datetime(value, unit='ms', errors='coerce').strftime('%Y-%m-%d %H:%M:%S')\n",
    "                    except ValueError:\n",
    "                        # If there's a ValueError, it might not be a valid timestamp\n",
    "                        print(f\"Conversion failed for {key} with value {value}. Keeping original value.\")\n",
    "                    except TypeError:\n",
    "                        # If there's a TypeError, the value might not be convertible (e.g., a string that's not a timestamp)\n",
    "                        print(f\"Type error for {key} with value {value}. Keeping original value.\")\n",
    "                    except OverflowError:\n",
    "                        # Handle cases where the timestamp is out of bounds for pandas to_datetime()\n",
    "                        print(f\"Overflow error for {key} with value {value}. Keeping original value.\")\n",
    "\n",
    "            all_attributes.append(attributes)\n",
    "\n",
    "        print(\"Received \", len(all_attributes), \" records\", end=\"\\r\", flush=True)\n",
    "        \n",
    "        # Update the offset for the next request\n",
    "        offset += record_count\n",
    "\n",
    "        # Sleep between requests to avoid hitting rate limits\n",
    "        time.sleep(1)  # Adjust the sleep time as needed\n",
    "\n",
    "    except requests.exceptions.HTTPError as e:\n",
    "        # Check if the error is due to rate limiting\n",
    "        if e.response.status_code == 429:\n",
    "            print(\"Rate limit hit, waiting before retrying...\")\n",
    "            time.sleep(10)  # Longer sleep time upon hitting rate limit\n",
    "        else:\n",
    "            print(f\"HTTP error occurred: {e}\")\n",
    "            break\n",
    "    except requests.exceptions.RequestException as e:\n",
    "        # For other types of request-related errors\n",
    "        print(f\"Error fetching data: {e}\")\n",
    "        break\n",
    "\n",
    "# Create a DataFrame from the collected attributes\n",
    "df = pd.DataFrame(all_attributes)\n",
    "\n",
    "# Save the DataFrame to a CSV file\n",
    "filename = \"IrishPlanningApplications.csv\"\n",
    "df.to_csv(filename, index=False)\n",
    "print(len(all_attributes), \" records saved to \", filename)\n"
   ]
  },
  {
   "cell_type": "code",
   "execution_count": 1,
   "metadata": {},
   "outputs": [
    {
     "ename": "NameError",
     "evalue": "name 'filename' is not defined",
     "output_type": "error",
     "traceback": [
      "\u001b[0;31m---------------------------------------------------------------------------\u001b[0m",
      "\u001b[0;31mNameError\u001b[0m                                 Traceback (most recent call last)",
      "Cell \u001b[0;32mIn[1], line 5\u001b[0m\n\u001b[1;32m      2\u001b[0m \u001b[38;5;28;01mimport\u001b[39;00m \u001b[38;5;21;01mpandas\u001b[39;00m \u001b[38;5;28;01mas\u001b[39;00m \u001b[38;5;21;01mpd\u001b[39;00m\n\u001b[1;32m      4\u001b[0m \u001b[38;5;66;03m# Load the dataset\u001b[39;00m\n\u001b[0;32m----> 5\u001b[0m df \u001b[38;5;241m=\u001b[39m pd\u001b[38;5;241m.\u001b[39mread_csv(\u001b[43mfilename\u001b[49m)\n\u001b[1;32m      7\u001b[0m \u001b[38;5;66;03m# Display the first few rows of the DataFrame to verify it's loaded correctly\u001b[39;00m\n\u001b[1;32m      8\u001b[0m df\u001b[38;5;241m.\u001b[39mhead()\n",
      "\u001b[0;31mNameError\u001b[0m: name 'filename' is not defined"
     ]
    }
   ],
   "source": [
    "# Import necessary libraries\n",
    "import pandas as pd\n",
    "\n",
    "# Load the dataset\n",
    "df = pd.read_csv(filename)\n",
    "\n",
    "# Display the first few rows of the DataFrame to verify it's loaded correctly\n",
    "df.head()"
   ]
  },
  {
   "cell_type": "markdown",
   "metadata": {},
   "source": [
    "Simple test - analyze the distribution of planning application decisions (e.g., Granted, Refused) over the years"
   ]
  },
  {
   "cell_type": "code",
   "execution_count": 6,
   "metadata": {},
   "outputs": [
    {
     "data": {
      "application/vnd.plotly.v1+json": {
       "config": {
        "plotlyServerURL": "https://plot.ly"
       },
       "data": [
        {
         "name": "Galway County Council - CONDITIONAL",
         "text": [
          794,
          1195,
          1358,
          1472,
          1447,
          1338,
          1662,
          1533,
          1212,
          307
         ],
         "textposition": "auto",
         "type": "bar",
         "x": [
          "2015-Galway County Council",
          "2016-Galway County Council",
          "2017-Galway County Council",
          "2018-Galway County Council",
          "2019-Galway County Council",
          "2020-Galway County Council",
          "2021-Galway County Council",
          "2022-Galway County Council",
          "2023-Galway County Council",
          "2024-Galway County Council"
         ],
         "y": [
          794,
          1195,
          1358,
          1472,
          1447,
          1338,
          1662,
          1533,
          1212,
          307
         ]
        },
        {
         "name": "Galway County Council - REFUSED",
         "text": [
          38,
          84,
          94,
          157,
          242,
          261,
          362,
          479,
          335,
          50
         ],
         "textposition": "auto",
         "type": "bar",
         "x": [
          "2015-Galway County Council",
          "2016-Galway County Council",
          "2017-Galway County Council",
          "2018-Galway County Council",
          "2019-Galway County Council",
          "2020-Galway County Council",
          "2021-Galway County Council",
          "2022-Galway County Council",
          "2023-Galway County Council",
          "2024-Galway County Council"
         ],
         "y": [
          38,
          84,
          94,
          157,
          242,
          261,
          362,
          479,
          335,
          50
         ]
        },
        {
         "name": "Galway County Council - UNCONDITIONAL",
         "text": [
          127,
          89,
          62,
          53,
          44,
          33,
          58,
          24,
          1
         ],
         "textposition": "auto",
         "type": "bar",
         "x": [
          "2015-Galway County Council",
          "2016-Galway County Council",
          "2017-Galway County Council",
          "2018-Galway County Council",
          "2019-Galway County Council",
          "2020-Galway County Council",
          "2021-Galway County Council",
          "2022-Galway County Council",
          "2023-Galway County Council"
         ],
         "y": [
          127,
          89,
          62,
          53,
          44,
          33,
          58,
          24,
          1
         ]
        },
        {
         "name": "Mayo County Council - CONDITIONAL",
         "text": [
          476,
          822,
          835,
          847,
          854,
          739,
          1116,
          990,
          981,
          158
         ],
         "textposition": "auto",
         "type": "bar",
         "x": [
          "2015-Mayo County Council",
          "2016-Mayo County Council",
          "2017-Mayo County Council",
          "2018-Mayo County Council",
          "2019-Mayo County Council",
          "2020-Mayo County Council",
          "2021-Mayo County Council",
          "2022-Mayo County Council",
          "2023-Mayo County Council",
          "2024-Mayo County Council"
         ],
         "y": [
          476,
          822,
          835,
          847,
          854,
          739,
          1116,
          990,
          981,
          158
         ]
        },
        {
         "name": "Mayo County Council - REFUSED",
         "text": [
          13,
          25,
          36,
          34,
          42,
          53,
          84,
          78,
          57,
          13
         ],
         "textposition": "auto",
         "type": "bar",
         "x": [
          "2015-Mayo County Council",
          "2016-Mayo County Council",
          "2017-Mayo County Council",
          "2018-Mayo County Council",
          "2019-Mayo County Council",
          "2020-Mayo County Council",
          "2021-Mayo County Council",
          "2022-Mayo County Council",
          "2023-Mayo County Council",
          "2024-Mayo County Council"
         ],
         "y": [
          13,
          25,
          36,
          34,
          42,
          53,
          84,
          78,
          57,
          13
         ]
        },
        {
         "name": "Mayo County Council - UNCONDITIONAL",
         "text": [],
         "textposition": "auto",
         "type": "bar",
         "x": [],
         "y": []
        }
       ],
       "layout": {
        "barmode": "stack",
        "legend": {
         "title": {
          "text": "Decision by Authority"
         }
        },
        "template": {
         "data": {
          "bar": [
           {
            "error_x": {
             "color": "#2a3f5f"
            },
            "error_y": {
             "color": "#2a3f5f"
            },
            "marker": {
             "line": {
              "color": "#E5ECF6",
              "width": 0.5
             },
             "pattern": {
              "fillmode": "overlay",
              "size": 10,
              "solidity": 0.2
             }
            },
            "type": "bar"
           }
          ],
          "barpolar": [
           {
            "marker": {
             "line": {
              "color": "#E5ECF6",
              "width": 0.5
             },
             "pattern": {
              "fillmode": "overlay",
              "size": 10,
              "solidity": 0.2
             }
            },
            "type": "barpolar"
           }
          ],
          "carpet": [
           {
            "aaxis": {
             "endlinecolor": "#2a3f5f",
             "gridcolor": "white",
             "linecolor": "white",
             "minorgridcolor": "white",
             "startlinecolor": "#2a3f5f"
            },
            "baxis": {
             "endlinecolor": "#2a3f5f",
             "gridcolor": "white",
             "linecolor": "white",
             "minorgridcolor": "white",
             "startlinecolor": "#2a3f5f"
            },
            "type": "carpet"
           }
          ],
          "choropleth": [
           {
            "colorbar": {
             "outlinewidth": 0,
             "ticks": ""
            },
            "type": "choropleth"
           }
          ],
          "contour": [
           {
            "colorbar": {
             "outlinewidth": 0,
             "ticks": ""
            },
            "colorscale": [
             [
              0,
              "#0d0887"
             ],
             [
              0.1111111111111111,
              "#46039f"
             ],
             [
              0.2222222222222222,
              "#7201a8"
             ],
             [
              0.3333333333333333,
              "#9c179e"
             ],
             [
              0.4444444444444444,
              "#bd3786"
             ],
             [
              0.5555555555555556,
              "#d8576b"
             ],
             [
              0.6666666666666666,
              "#ed7953"
             ],
             [
              0.7777777777777778,
              "#fb9f3a"
             ],
             [
              0.8888888888888888,
              "#fdca26"
             ],
             [
              1,
              "#f0f921"
             ]
            ],
            "type": "contour"
           }
          ],
          "contourcarpet": [
           {
            "colorbar": {
             "outlinewidth": 0,
             "ticks": ""
            },
            "type": "contourcarpet"
           }
          ],
          "heatmap": [
           {
            "colorbar": {
             "outlinewidth": 0,
             "ticks": ""
            },
            "colorscale": [
             [
              0,
              "#0d0887"
             ],
             [
              0.1111111111111111,
              "#46039f"
             ],
             [
              0.2222222222222222,
              "#7201a8"
             ],
             [
              0.3333333333333333,
              "#9c179e"
             ],
             [
              0.4444444444444444,
              "#bd3786"
             ],
             [
              0.5555555555555556,
              "#d8576b"
             ],
             [
              0.6666666666666666,
              "#ed7953"
             ],
             [
              0.7777777777777778,
              "#fb9f3a"
             ],
             [
              0.8888888888888888,
              "#fdca26"
             ],
             [
              1,
              "#f0f921"
             ]
            ],
            "type": "heatmap"
           }
          ],
          "heatmapgl": [
           {
            "colorbar": {
             "outlinewidth": 0,
             "ticks": ""
            },
            "colorscale": [
             [
              0,
              "#0d0887"
             ],
             [
              0.1111111111111111,
              "#46039f"
             ],
             [
              0.2222222222222222,
              "#7201a8"
             ],
             [
              0.3333333333333333,
              "#9c179e"
             ],
             [
              0.4444444444444444,
              "#bd3786"
             ],
             [
              0.5555555555555556,
              "#d8576b"
             ],
             [
              0.6666666666666666,
              "#ed7953"
             ],
             [
              0.7777777777777778,
              "#fb9f3a"
             ],
             [
              0.8888888888888888,
              "#fdca26"
             ],
             [
              1,
              "#f0f921"
             ]
            ],
            "type": "heatmapgl"
           }
          ],
          "histogram": [
           {
            "marker": {
             "pattern": {
              "fillmode": "overlay",
              "size": 10,
              "solidity": 0.2
             }
            },
            "type": "histogram"
           }
          ],
          "histogram2d": [
           {
            "colorbar": {
             "outlinewidth": 0,
             "ticks": ""
            },
            "colorscale": [
             [
              0,
              "#0d0887"
             ],
             [
              0.1111111111111111,
              "#46039f"
             ],
             [
              0.2222222222222222,
              "#7201a8"
             ],
             [
              0.3333333333333333,
              "#9c179e"
             ],
             [
              0.4444444444444444,
              "#bd3786"
             ],
             [
              0.5555555555555556,
              "#d8576b"
             ],
             [
              0.6666666666666666,
              "#ed7953"
             ],
             [
              0.7777777777777778,
              "#fb9f3a"
             ],
             [
              0.8888888888888888,
              "#fdca26"
             ],
             [
              1,
              "#f0f921"
             ]
            ],
            "type": "histogram2d"
           }
          ],
          "histogram2dcontour": [
           {
            "colorbar": {
             "outlinewidth": 0,
             "ticks": ""
            },
            "colorscale": [
             [
              0,
              "#0d0887"
             ],
             [
              0.1111111111111111,
              "#46039f"
             ],
             [
              0.2222222222222222,
              "#7201a8"
             ],
             [
              0.3333333333333333,
              "#9c179e"
             ],
             [
              0.4444444444444444,
              "#bd3786"
             ],
             [
              0.5555555555555556,
              "#d8576b"
             ],
             [
              0.6666666666666666,
              "#ed7953"
             ],
             [
              0.7777777777777778,
              "#fb9f3a"
             ],
             [
              0.8888888888888888,
              "#fdca26"
             ],
             [
              1,
              "#f0f921"
             ]
            ],
            "type": "histogram2dcontour"
           }
          ],
          "mesh3d": [
           {
            "colorbar": {
             "outlinewidth": 0,
             "ticks": ""
            },
            "type": "mesh3d"
           }
          ],
          "parcoords": [
           {
            "line": {
             "colorbar": {
              "outlinewidth": 0,
              "ticks": ""
             }
            },
            "type": "parcoords"
           }
          ],
          "pie": [
           {
            "automargin": true,
            "type": "pie"
           }
          ],
          "scatter": [
           {
            "fillpattern": {
             "fillmode": "overlay",
             "size": 10,
             "solidity": 0.2
            },
            "type": "scatter"
           }
          ],
          "scatter3d": [
           {
            "line": {
             "colorbar": {
              "outlinewidth": 0,
              "ticks": ""
             }
            },
            "marker": {
             "colorbar": {
              "outlinewidth": 0,
              "ticks": ""
             }
            },
            "type": "scatter3d"
           }
          ],
          "scattercarpet": [
           {
            "marker": {
             "colorbar": {
              "outlinewidth": 0,
              "ticks": ""
             }
            },
            "type": "scattercarpet"
           }
          ],
          "scattergeo": [
           {
            "marker": {
             "colorbar": {
              "outlinewidth": 0,
              "ticks": ""
             }
            },
            "type": "scattergeo"
           }
          ],
          "scattergl": [
           {
            "marker": {
             "colorbar": {
              "outlinewidth": 0,
              "ticks": ""
             }
            },
            "type": "scattergl"
           }
          ],
          "scattermapbox": [
           {
            "marker": {
             "colorbar": {
              "outlinewidth": 0,
              "ticks": ""
             }
            },
            "type": "scattermapbox"
           }
          ],
          "scatterpolar": [
           {
            "marker": {
             "colorbar": {
              "outlinewidth": 0,
              "ticks": ""
             }
            },
            "type": "scatterpolar"
           }
          ],
          "scatterpolargl": [
           {
            "marker": {
             "colorbar": {
              "outlinewidth": 0,
              "ticks": ""
             }
            },
            "type": "scatterpolargl"
           }
          ],
          "scatterternary": [
           {
            "marker": {
             "colorbar": {
              "outlinewidth": 0,
              "ticks": ""
             }
            },
            "type": "scatterternary"
           }
          ],
          "surface": [
           {
            "colorbar": {
             "outlinewidth": 0,
             "ticks": ""
            },
            "colorscale": [
             [
              0,
              "#0d0887"
             ],
             [
              0.1111111111111111,
              "#46039f"
             ],
             [
              0.2222222222222222,
              "#7201a8"
             ],
             [
              0.3333333333333333,
              "#9c179e"
             ],
             [
              0.4444444444444444,
              "#bd3786"
             ],
             [
              0.5555555555555556,
              "#d8576b"
             ],
             [
              0.6666666666666666,
              "#ed7953"
             ],
             [
              0.7777777777777778,
              "#fb9f3a"
             ],
             [
              0.8888888888888888,
              "#fdca26"
             ],
             [
              1,
              "#f0f921"
             ]
            ],
            "type": "surface"
           }
          ],
          "table": [
           {
            "cells": {
             "fill": {
              "color": "#EBF0F8"
             },
             "line": {
              "color": "white"
             }
            },
            "header": {
             "fill": {
              "color": "#C8D4E3"
             },
             "line": {
              "color": "white"
             }
            },
            "type": "table"
           }
          ]
         },
         "layout": {
          "annotationdefaults": {
           "arrowcolor": "#2a3f5f",
           "arrowhead": 0,
           "arrowwidth": 1
          },
          "autotypenumbers": "strict",
          "coloraxis": {
           "colorbar": {
            "outlinewidth": 0,
            "ticks": ""
           }
          },
          "colorscale": {
           "diverging": [
            [
             0,
             "#8e0152"
            ],
            [
             0.1,
             "#c51b7d"
            ],
            [
             0.2,
             "#de77ae"
            ],
            [
             0.3,
             "#f1b6da"
            ],
            [
             0.4,
             "#fde0ef"
            ],
            [
             0.5,
             "#f7f7f7"
            ],
            [
             0.6,
             "#e6f5d0"
            ],
            [
             0.7,
             "#b8e186"
            ],
            [
             0.8,
             "#7fbc41"
            ],
            [
             0.9,
             "#4d9221"
            ],
            [
             1,
             "#276419"
            ]
           ],
           "sequential": [
            [
             0,
             "#0d0887"
            ],
            [
             0.1111111111111111,
             "#46039f"
            ],
            [
             0.2222222222222222,
             "#7201a8"
            ],
            [
             0.3333333333333333,
             "#9c179e"
            ],
            [
             0.4444444444444444,
             "#bd3786"
            ],
            [
             0.5555555555555556,
             "#d8576b"
            ],
            [
             0.6666666666666666,
             "#ed7953"
            ],
            [
             0.7777777777777778,
             "#fb9f3a"
            ],
            [
             0.8888888888888888,
             "#fdca26"
            ],
            [
             1,
             "#f0f921"
            ]
           ],
           "sequentialminus": [
            [
             0,
             "#0d0887"
            ],
            [
             0.1111111111111111,
             "#46039f"
            ],
            [
             0.2222222222222222,
             "#7201a8"
            ],
            [
             0.3333333333333333,
             "#9c179e"
            ],
            [
             0.4444444444444444,
             "#bd3786"
            ],
            [
             0.5555555555555556,
             "#d8576b"
            ],
            [
             0.6666666666666666,
             "#ed7953"
            ],
            [
             0.7777777777777778,
             "#fb9f3a"
            ],
            [
             0.8888888888888888,
             "#fdca26"
            ],
            [
             1,
             "#f0f921"
            ]
           ]
          },
          "colorway": [
           "#636efa",
           "#EF553B",
           "#00cc96",
           "#ab63fa",
           "#FFA15A",
           "#19d3f3",
           "#FF6692",
           "#B6E880",
           "#FF97FF",
           "#FECB52"
          ],
          "font": {
           "color": "#2a3f5f"
          },
          "geo": {
           "bgcolor": "white",
           "lakecolor": "white",
           "landcolor": "#E5ECF6",
           "showlakes": true,
           "showland": true,
           "subunitcolor": "white"
          },
          "hoverlabel": {
           "align": "left"
          },
          "hovermode": "closest",
          "mapbox": {
           "style": "light"
          },
          "paper_bgcolor": "white",
          "plot_bgcolor": "#E5ECF6",
          "polar": {
           "angularaxis": {
            "gridcolor": "white",
            "linecolor": "white",
            "ticks": ""
           },
           "bgcolor": "#E5ECF6",
           "radialaxis": {
            "gridcolor": "white",
            "linecolor": "white",
            "ticks": ""
           }
          },
          "scene": {
           "xaxis": {
            "backgroundcolor": "#E5ECF6",
            "gridcolor": "white",
            "gridwidth": 2,
            "linecolor": "white",
            "showbackground": true,
            "ticks": "",
            "zerolinecolor": "white"
           },
           "yaxis": {
            "backgroundcolor": "#E5ECF6",
            "gridcolor": "white",
            "gridwidth": 2,
            "linecolor": "white",
            "showbackground": true,
            "ticks": "",
            "zerolinecolor": "white"
           },
           "zaxis": {
            "backgroundcolor": "#E5ECF6",
            "gridcolor": "white",
            "gridwidth": 2,
            "linecolor": "white",
            "showbackground": true,
            "ticks": "",
            "zerolinecolor": "white"
           }
          },
          "shapedefaults": {
           "line": {
            "color": "#2a3f5f"
           }
          },
          "ternary": {
           "aaxis": {
            "gridcolor": "white",
            "linecolor": "white",
            "ticks": ""
           },
           "baxis": {
            "gridcolor": "white",
            "linecolor": "white",
            "ticks": ""
           },
           "bgcolor": "#E5ECF6",
           "caxis": {
            "gridcolor": "white",
            "linecolor": "white",
            "ticks": ""
           }
          },
          "title": {
           "x": 0.05
          },
          "xaxis": {
           "automargin": true,
           "gridcolor": "white",
           "linecolor": "white",
           "ticks": "",
           "title": {
            "standoff": 15
           },
           "zerolinecolor": "white",
           "zerolinewidth": 2
          },
          "yaxis": {
           "automargin": true,
           "gridcolor": "white",
           "linecolor": "white",
           "ticks": "",
           "title": {
            "standoff": 15
           },
           "zerolinecolor": "white",
           "zerolinewidth": 2
          }
         }
        },
        "title": {
         "text": "Planning Application Decisions by Year for Galway and Mayo County Councils"
        },
        "xaxis": {
         "title": {
          "text": "Year - Planning Authority"
         }
        },
        "yaxis": {
         "title": {
          "text": "Number of Decisions"
         }
        }
       }
      }
     },
     "metadata": {},
     "output_type": "display_data"
    }
   ],
   "source": [
    "import plotly.graph_objects as go\n",
    "import pandas as pd\n",
    "\n",
    "# Assuming df is existing DataFrame\n",
    "\n",
    "# Filter the DataFrame for rows where PlanningAuthority is 'Galway County Council'\n",
    "filtered_df = df[df['PlanningAuthority'].isin(['Galway County Council', 'Mayo County Council'])].copy()\n",
    "# Drop potential missing values\n",
    "filtered_df.dropna(subset=['DecisionDate', 'PlanningAuthority'], inplace=True)\n",
    "# Convert decision dates to datetime format in the filtered DataFrame\n",
    "filtered_df['DecisionDate'] = pd.to_datetime(filtered_df['DecisionDate'])\n",
    "\n",
    "# Extract the year from the DecisionDate\n",
    "filtered_df['DecisionYear'] = filtered_df['DecisionDate'].dt.year\n",
    "\n",
    "# Group by 'DecisionYear', 'PlanningAuthority', and 'Decision' and count\n",
    "decision_counts = filtered_df.groupby(['DecisionYear', 'PlanningAuthority', 'Decision']).size().reset_index(name='Counts')\n",
    "\n",
    "# Prepare a figure\n",
    "fig = go.Figure()\n",
    "\n",
    "# Define unique categories\n",
    "years = decision_counts['DecisionYear'].unique()\n",
    "authorities = decision_counts['PlanningAuthority'].unique()\n",
    "decisions = decision_counts['Decision'].unique()\n",
    "\n",
    "# Create bars\n",
    "for authority in authorities:\n",
    "    for decision in decisions:\n",
    "        df_filtered = decision_counts[(decision_counts['PlanningAuthority'] == authority) & (decision_counts['Decision'] == decision)]\n",
    "        \n",
    "        fig.add_trace(go.Bar(\n",
    "            x=[f\"{year}-{authority}\" for year in df_filtered['DecisionYear']],\n",
    "            y=df_filtered['Counts'],\n",
    "            name=f\"{authority} - {decision}\",\n",
    "            text=df_filtered['Counts'],\n",
    "            textposition='auto',\n",
    "        ))\n",
    "\n",
    "# Customize appearance\n",
    "fig.update_layout(\n",
    "    barmode='stack',\n",
    "    title='Planning Application Decisions by Year for Galway and Mayo County Councils',\n",
    "    xaxis_title='Year - Planning Authority',\n",
    "    yaxis_title='Number of Decisions',\n",
    "    legend_title='Decision by Authority',\n",
    ")\n",
    "\n",
    "# Show the plot\n",
    "fig.show()\n"
   ]
  },
  {
   "cell_type": "markdown",
   "metadata": {},
   "source": [
    "Now, simplify our analysis into a simple table focusing on Galway County Council only first. this aims to replicate the test analysis in this doc - https://docs.google.com/spreadsheets/d/1dAIAc0Sm136LR-1PBHJ3R2-9v4FHaC-xnABoVQQ4PPc/edit#gid=993444100"
   ]
  },
  {
   "cell_type": "code",
   "execution_count": 30,
   "metadata": {},
   "outputs": [
    {
     "name": "stdout",
     "output_type": "stream",
     "text": [
      "   Received Year  Conditional Rate  Refusal Rate  Unconditional Rate\n",
      "0           2015             68.61          3.94                9.01\n",
      "1           2016             70.82          5.03                5.08\n",
      "2           2017             76.52          5.77                2.86\n",
      "3           2018             79.07          9.57                2.87\n",
      "4           2019             73.05         13.40                1.97\n",
      "5           2020             73.51         13.48                1.98\n",
      "6           2021             71.45         17.39                2.35\n",
      "7           2022             66.95         22.89                0.79\n",
      "8           2023             62.35         14.61                0.06\n",
      "9           2024              8.13          1.06                0.00\n"
     ]
    }
   ],
   "source": [
    "import pandas as pd\n",
    "\n",
    "galway_df = df[df['PlanningAuthority'] == 'Galway County Council'].copy()\n",
    "galway_df['Received Year'] = pd.to_datetime(galway_df['ReceivedDate']).dt.year\n",
    "\n",
    "results_df = pd.DataFrame(columns=['Received Year', 'Conditional Rate', 'Refusal Rate', 'Unconditional Rate'])\n",
    "\n",
    "rows_list = []\n",
    "\n",
    "for year in sorted(galway_df['Received Year'].unique()):\n",
    "    year_data = galway_df[galway_df['Received Year'] == year]\n",
    "    total_decisions = len(year_data)\n",
    "    \n",
    "    conditional_rate = ((year_data['Decision'].str.strip() == 'CONDITIONAL').sum() / total_decisions * 100) if total_decisions > 0 else 0\n",
    "    refusal_rate = ((year_data['Decision'].str.strip() == 'REFUSED').sum() / total_decisions * 100) if total_decisions > 0 else 0\n",
    "    unconditional_rate = ((year_data['Decision'].str.strip() == 'UNCONDITIONAL').sum() / total_decisions * 100) if total_decisions > 0 else 0\n",
    "    \n",
    "    rows_list.append({\n",
    "        'Received Year': year,\n",
    "        'Conditional Rate': round(conditional_rate, 2),\n",
    "        'Refusal Rate': round(refusal_rate, 2),\n",
    "        'Unconditional Rate': round(unconditional_rate, 2)\n",
    "    })\n",
    "\n",
    "results_df = pd.DataFrame(rows_list)\n",
    "results_df['Received Year'] = results_df['Received Year'].astype(int)\n",
    "\n",
    "\n",
    "# Ensure 'Received Year' column is of type int\n",
    "results_df['Received Year'] = results_df['Received Year'].astype(int)\n",
    "\n",
    "# Display the DataFrame\n",
    "print(results_df)"
   ]
  },
  {
   "cell_type": "markdown",
   "metadata": {},
   "source": [
    "Same analysis, for Mayo this time"
   ]
  },
  {
   "cell_type": "code",
   "execution_count": 31,
   "metadata": {},
   "outputs": [
    {
     "name": "stdout",
     "output_type": "stream",
     "text": [
      "   Received Year  Conditional Rate  Refusal Rate  Unconditional Rate\n",
      "0           2015             88.48          4.41                 0.0\n",
      "1           2016             88.34          4.88                 0.0\n",
      "2           2017             87.49          5.27                 0.0\n",
      "3           2018             87.59          5.21                 0.0\n",
      "4           2019             83.49          8.15                 0.0\n",
      "5           2020             82.76          7.43                 0.0\n",
      "6           2021             84.35          8.13                 0.0\n",
      "7           2022             79.66          6.10                 0.0\n",
      "8           2023             69.49          4.28                 0.0\n",
      "9           2024              6.76          0.68                 0.0\n"
     ]
    }
   ],
   "source": [
    "mayo_df = df[df['PlanningAuthority'] == 'Mayo County Council'].copy()\n",
    "mayo_df['Received Year'] = pd.to_datetime(mayo_df['ReceivedDate']).dt.year\n",
    "\n",
    "results_df = pd.DataFrame(columns=['Received Year', 'Conditional Rate', 'Refusal Rate', 'Unconditional Rate'])\n",
    "\n",
    "rows_list = []\n",
    "\n",
    "for year in sorted(mayo_df['Received Year'].unique()):\n",
    "    year_data = mayo_df[mayo_df['Received Year'] == year]\n",
    "    total_decisions = len(year_data)\n",
    "    \n",
    "    conditional_rate = ((year_data['Decision'].str.strip() == 'CONDITIONAL').sum() / total_decisions * 100) if total_decisions > 0 else 0\n",
    "    refusal_rate = ((year_data['Decision'].str.strip() == 'REFUSED').sum() / total_decisions * 100) if total_decisions > 0 else 0\n",
    "    unconditional_rate = ((year_data['Decision'].str.strip() == 'UNCONDITIONAL').sum() / total_decisions * 100) if total_decisions > 0 else 0\n",
    "    \n",
    "    rows_list.append({\n",
    "        'Received Year': year,\n",
    "        'Conditional Rate': round(conditional_rate, 2),\n",
    "        'Refusal Rate': round(refusal_rate, 2),\n",
    "        'Unconditional Rate': round(unconditional_rate, 2)\n",
    "    })\n",
    "\n",
    "results_df = pd.DataFrame(rows_list)\n",
    "results_df['Received Year'] = results_df['Received Year'].astype(int)\n",
    "\n",
    "\n",
    "# Ensure 'Received Year' column is of type int\n",
    "results_df['Received Year'] = results_df['Received Year'].astype(int)\n",
    "\n",
    "# Display the DataFrame\n",
    "print(results_df)"
   ]
  }
 ],
 "metadata": {
  "kernelspec": {
   "display_name": "Python 3",
   "language": "python",
   "name": "python3"
  },
  "language_info": {
   "codemirror_mode": {
    "name": "ipython",
    "version": 3
   },
   "file_extension": ".py",
   "mimetype": "text/x-python",
   "name": "python",
   "nbconvert_exporter": "python",
   "pygments_lexer": "ipython3",
   "version": "3.11.7"
  }
 },
 "nbformat": 4,
 "nbformat_minor": 2
}
